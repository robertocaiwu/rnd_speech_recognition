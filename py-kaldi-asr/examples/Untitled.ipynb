{
 "cells": [
  {
   "cell_type": "code",
   "execution_count": 10,
   "metadata": {},
   "outputs": [
    {
     "name": "stdout",
     "output_type": "stream",
     "text": [
      "loading model...\n",
      "loading model... done.\n"
     ]
    }
   ],
   "source": [
    "import os\n",
    "import sys\n",
    "import speech_recognition as sr\n",
    "\n",
    "model_directory='/home/rob/speech/data/models/tdnn-en'\n",
    "\n",
    "\n",
    "mic = sr.Microphone()\n",
    "rec = sr.Recognizer()\n",
    "rec.load_kaldi_model(model_directory=model_directory)"
   ]
  },
  {
   "cell_type": "code",
   "execution_count": 11,
   "metadata": {},
   "outputs": [
    {
     "name": "stdout",
     "output_type": "stream",
     "text": [
      "Listening ...\n",
      "You said:  \n"
     ]
    }
   ],
   "source": [
    "# Start recording\n",
    "with mic as source:\n",
    "    rec.adjust_for_ambient_noise(source)\n",
    "    print('Listening ...')\n",
    "    audio = rec.listen(source)\n",
    "\n",
    "    # Decode audio from microphone\n",
    "    s = rec.recognize_kaldi(audio)\n",
    "    print (\"You said: \", s[0])"
   ]
  },
  {
   "cell_type": "code",
   "execution_count": null,
   "metadata": {},
   "outputs": [],
   "source": []
  }
 ],
 "metadata": {
  "kernelspec": {
   "display_name": "speech",
   "language": "python",
   "name": "speech"
  },
  "language_info": {
   "codemirror_mode": {
    "name": "ipython",
    "version": 3
   },
   "file_extension": ".py",
   "mimetype": "text/x-python",
   "name": "python",
   "nbconvert_exporter": "python",
   "pygments_lexer": "ipython3",
   "version": "3.5.2"
  }
 },
 "nbformat": 4,
 "nbformat_minor": 2
}
